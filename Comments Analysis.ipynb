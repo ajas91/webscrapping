{
 "cells": [
  {
   "cell_type": "code",
   "execution_count": 7,
   "id": "04010fed",
   "metadata": {},
   "outputs": [],
   "source": [
    "import pandas as pd\n",
    "import numpy as np\n",
    "import nltk\n",
    "import re\n",
    "from nltk.corpus import stopwords\n",
    "from nltk.tokenize import word_tokenize\n",
    "from sklearn.feature_extraction.text import CountVectorizer\n",
    "from sklearn.feature_extraction.text import TfidfTransformer"
   ]
  },
  {
   "cell_type": "code",
   "execution_count": 3,
   "id": "02dfd148",
   "metadata": {},
   "outputs": [],
   "source": [
    "df = pd.read_excel('comments_v1.6.xlsx')"
   ]
  },
  {
   "cell_type": "code",
   "execution_count": null,
   "id": "6e496de7",
   "metadata": {},
   "outputs": [],
   "source": [
    "df.info()"
   ]
  },
  {
   "cell_type": "markdown",
   "id": "d807796c",
   "metadata": {},
   "source": [
    "#### remove neutral rows"
   ]
  },
  {
   "cell_type": "code",
   "execution_count": null,
   "id": "e58e3354",
   "metadata": {},
   "outputs": [],
   "source": [
    "df = df.loc[df['Label'] != 0]"
   ]
  },
  {
   "cell_type": "code",
   "execution_count": null,
   "id": "479537dc",
   "metadata": {},
   "outputs": [],
   "source": [
    "df"
   ]
  },
  {
   "cell_type": "code",
   "execution_count": null,
   "id": "9ccdc9be",
   "metadata": {},
   "outputs": [],
   "source": [
    "df['Text'] = df['Text'].str.lower()\n",
    "df['Text'] = df['Text'].apply(lambda x: re.sub('[^a-zA-Z \\n]','',x))"
   ]
  },
  {
   "cell_type": "code",
   "execution_count": null,
   "id": "2cb63522",
   "metadata": {},
   "outputs": [],
   "source": [
    "tokens = df['Text'].apply(lambda x: nltk.word_tokenize(x))"
   ]
  },
  {
   "cell_type": "code",
   "execution_count": null,
   "id": "c043d494",
   "metadata": {},
   "outputs": [],
   "source": [
    "from nltk.corpus import stopwords\n",
    "from nltk.tokenize import word_tokenize\n",
    "stop_words = set(stopwords.words('english'))"
   ]
  },
  {
   "cell_type": "code",
   "execution_count": null,
   "id": "d76bc4e6",
   "metadata": {},
   "outputs": [],
   "source": [
    "def removeStopWord (sentence,stop_words):\n",
    "    newSentence = []\n",
    "    for word in sentence:\n",
    "        if word not in stop_words:\n",
    "            newSentence.append(word)\n",
    "    return newSentence"
   ]
  },
  {
   "cell_type": "code",
   "execution_count": null,
   "id": "c0333f02",
   "metadata": {},
   "outputs": [],
   "source": [
    "removeStopWord = tokens.apply(lambda x: removeStopWord(x,stop_words))"
   ]
  },
  {
   "cell_type": "code",
   "execution_count": null,
   "id": "7c6e1bdf",
   "metadata": {},
   "outputs": [],
   "source": [
    "filteredDf = df.merge(removeStopWord,left_index=True,right_index=True)"
   ]
  },
  {
   "cell_type": "code",
   "execution_count": null,
   "id": "fcba5642",
   "metadata": {},
   "outputs": [],
   "source": [
    "filteredDf = filteredDf[['Text_y','Label']]"
   ]
  },
  {
   "cell_type": "code",
   "execution_count": null,
   "id": "566e7181",
   "metadata": {},
   "outputs": [],
   "source": [
    "filteredDf.to_csv('Cleaned_data.csv')"
   ]
  },
  {
   "cell_type": "code",
   "execution_count": null,
   "id": "b5c74596",
   "metadata": {},
   "outputs": [],
   "source": []
  },
  {
   "cell_type": "code",
   "execution_count": 5,
   "id": "dfcc5ab9",
   "metadata": {},
   "outputs": [],
   "source": [
    "def removeStopWord (sentence,stop_words):\n",
    "    newSentence = []\n",
    "    for word in sentence:\n",
    "        if word not in stop_words:\n",
    "            newSentence.append(word)\n",
    "    return newSentence\n",
    "\n",
    "\n",
    "def dataClean(s):\n",
    "    '''\n",
    "    s: Text Series\n",
    "    return filtered tokenzied and removed stop word series\n",
    "    '''\n",
    "    s = s.str.lower()\n",
    "    s = s.apply(lambda x: re.sub('[^a-zA-Z \\n]','',x))\n",
    "    tokens = s.apply(lambda x: nltk.word_tokenize(x))\n",
    "    stop_words = set(stopwords.words('english'))\n",
    "    filteredS = tokens.apply(lambda x: removeStopWord(x,stop_words))\n",
    "    return filteredS"
   ]
  },
  {
   "cell_type": "code",
   "execution_count": 23,
   "id": "999887db",
   "metadata": {},
   "outputs": [],
   "source": [
    "s = dataClean(df['Text'])\n",
    "s = s.astype('string')"
   ]
  },
  {
   "cell_type": "code",
   "execution_count": 25,
   "id": "9a14a111",
   "metadata": {},
   "outputs": [],
   "source": [
    "vectorizer = CountVectorizer(max_features=1500)\n",
    "X = vectorizer.fit_transform(s).toarray()\n",
    "\n",
    "tfidfconverter = TfidfTransformer()\n",
    "X = tfidfconverter.fit_transform(X).toarray()"
   ]
  },
  {
   "cell_type": "code",
   "execution_count": 26,
   "id": "1e96ed91",
   "metadata": {},
   "outputs": [
    {
     "data": {
      "text/plain": [
       "array([[0.        , 0.        , 0.        , ..., 0.        , 0.        ,\n",
       "        0.        ],\n",
       "       [0.        , 0.70710678, 0.        , ..., 0.        , 0.        ,\n",
       "        0.        ],\n",
       "       [0.        , 0.        , 1.        , ..., 0.        , 0.        ,\n",
       "        0.        ],\n",
       "       ...,\n",
       "       [0.        , 0.        , 0.        , ..., 0.67480635, 0.        ,\n",
       "        0.        ],\n",
       "       [0.        , 0.        , 0.        , ..., 0.        , 1.        ,\n",
       "        0.        ],\n",
       "       [0.        , 0.        , 0.        , ..., 0.        , 0.        ,\n",
       "        1.        ]])"
      ]
     },
     "execution_count": 26,
     "metadata": {},
     "output_type": "execute_result"
    }
   ],
   "source": [
    "X"
   ]
  },
  {
   "cell_type": "code",
   "execution_count": 27,
   "id": "bb510d4e",
   "metadata": {},
   "outputs": [
    {
     "data": {
      "text/html": [
       "<div>\n",
       "<style scoped>\n",
       "    .dataframe tbody tr th:only-of-type {\n",
       "        vertical-align: middle;\n",
       "    }\n",
       "\n",
       "    .dataframe tbody tr th {\n",
       "        vertical-align: top;\n",
       "    }\n",
       "\n",
       "    .dataframe thead th {\n",
       "        text-align: right;\n",
       "    }\n",
       "</style>\n",
       "<table border=\"1\" class=\"dataframe\">\n",
       "  <thead>\n",
       "    <tr style=\"text-align: right;\">\n",
       "      <th></th>\n",
       "      <th>Text</th>\n",
       "      <th>Label</th>\n",
       "    </tr>\n",
       "  </thead>\n",
       "  <tbody>\n",
       "    <tr>\n",
       "      <th>0</th>\n",
       "      <td>A nice selection for breakfast</td>\n",
       "      <td>1</td>\n",
       "    </tr>\n",
       "    <tr>\n",
       "      <th>1</th>\n",
       "      <td>Abit pricey</td>\n",
       "      <td>-1</td>\n",
       "    </tr>\n",
       "    <tr>\n",
       "      <th>2</th>\n",
       "      <td>Absolute</td>\n",
       "      <td>1</td>\n",
       "    </tr>\n",
       "    <tr>\n",
       "      <th>3</th>\n",
       "      <td>After 2 hour i recive my order</td>\n",
       "      <td>-1</td>\n",
       "    </tr>\n",
       "    <tr>\n",
       "      <th>4</th>\n",
       "      <td>alright</td>\n",
       "      <td>1</td>\n",
       "    </tr>\n",
       "    <tr>\n",
       "      <th>...</th>\n",
       "      <td>...</td>\n",
       "      <td>...</td>\n",
       "    </tr>\n",
       "    <tr>\n",
       "      <th>764</th>\n",
       "      <td>Yummy and saucyðŸ‘Œ</td>\n",
       "      <td>1</td>\n",
       "    </tr>\n",
       "    <tr>\n",
       "      <th>765</th>\n",
       "      <td>Yummy food</td>\n",
       "      <td>1</td>\n",
       "    </tr>\n",
       "    <tr>\n",
       "      <th>766</th>\n",
       "      <td>Yummy food thanksðŸ¤©</td>\n",
       "      <td>1</td>\n",
       "    </tr>\n",
       "    <tr>\n",
       "      <th>767</th>\n",
       "      <td>Yumy yumy</td>\n",
       "      <td>1</td>\n",
       "    </tr>\n",
       "    <tr>\n",
       "      <th>768</th>\n",
       "      <td>Yumyyyyy</td>\n",
       "      <td>1</td>\n",
       "    </tr>\n",
       "  </tbody>\n",
       "</table>\n",
       "<p>769 rows × 2 columns</p>\n",
       "</div>"
      ],
      "text/plain": [
       "                               Text  Label\n",
       "0    A nice selection for breakfast      1\n",
       "1                       Abit pricey     -1\n",
       "2                          Absolute      1\n",
       "3    After 2 hour i recive my order     -1\n",
       "4                           alright      1\n",
       "..                              ...    ...\n",
       "764             Yummy and saucyðŸ‘Œ      1\n",
       "765                      Yummy food      1\n",
       "766           Yummy food thanksðŸ¤©      1\n",
       "767                       Yumy yumy      1\n",
       "768                        Yumyyyyy      1\n",
       "\n",
       "[769 rows x 2 columns]"
      ]
     },
     "execution_count": 27,
     "metadata": {},
     "output_type": "execute_result"
    }
   ],
   "source": [
    "df"
   ]
  },
  {
   "cell_type": "code",
   "execution_count": null,
   "id": "cbf84a78",
   "metadata": {},
   "outputs": [],
   "source": []
  }
 ],
 "metadata": {
  "kernelspec": {
   "display_name": "Python 3 (ipykernel)",
   "language": "python",
   "name": "python3"
  },
  "language_info": {
   "codemirror_mode": {
    "name": "ipython",
    "version": 3
   },
   "file_extension": ".py",
   "mimetype": "text/x-python",
   "name": "python",
   "nbconvert_exporter": "python",
   "pygments_lexer": "ipython3",
   "version": "3.8.5"
  }
 },
 "nbformat": 4,
 "nbformat_minor": 5
}
