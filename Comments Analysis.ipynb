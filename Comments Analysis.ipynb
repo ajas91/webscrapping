{
 "cells": [
  {
   "cell_type": "code",
   "execution_count": 71,
   "id": "04010fed",
   "metadata": {},
   "outputs": [],
   "source": [
    "import pandas as pd\n",
    "import numpy as np\n",
    "import nltk\n",
    "import re"
   ]
  },
  {
   "cell_type": "code",
   "execution_count": 72,
   "id": "02dfd148",
   "metadata": {},
   "outputs": [],
   "source": [
    "df = pd.read_excel('comments_v1.6.xlsx')"
   ]
  },
  {
   "cell_type": "code",
   "execution_count": 73,
   "id": "6e496de7",
   "metadata": {},
   "outputs": [
    {
     "name": "stdout",
     "output_type": "stream",
     "text": [
      "<class 'pandas.core.frame.DataFrame'>\n",
      "RangeIndex: 769 entries, 0 to 768\n",
      "Data columns (total 2 columns):\n",
      " #   Column  Non-Null Count  Dtype \n",
      "---  ------  --------------  ----- \n",
      " 0   Text    769 non-null    object\n",
      " 1   Label   769 non-null    int64 \n",
      "dtypes: int64(1), object(1)\n",
      "memory usage: 12.1+ KB\n"
     ]
    }
   ],
   "source": [
    "df.info()"
   ]
  },
  {
   "cell_type": "markdown",
   "id": "d807796c",
   "metadata": {},
   "source": [
    "#### remove neutral rows"
   ]
  },
  {
   "cell_type": "code",
   "execution_count": 74,
   "id": "e58e3354",
   "metadata": {},
   "outputs": [],
   "source": [
    "df = df.loc[df['Label'] != 0]"
   ]
  },
  {
   "cell_type": "code",
   "execution_count": 75,
   "id": "479537dc",
   "metadata": {},
   "outputs": [
    {
     "data": {
      "text/html": [
       "<div>\n",
       "<style scoped>\n",
       "    .dataframe tbody tr th:only-of-type {\n",
       "        vertical-align: middle;\n",
       "    }\n",
       "\n",
       "    .dataframe tbody tr th {\n",
       "        vertical-align: top;\n",
       "    }\n",
       "\n",
       "    .dataframe thead th {\n",
       "        text-align: right;\n",
       "    }\n",
       "</style>\n",
       "<table border=\"1\" class=\"dataframe\">\n",
       "  <thead>\n",
       "    <tr style=\"text-align: right;\">\n",
       "      <th></th>\n",
       "      <th>Text</th>\n",
       "      <th>Label</th>\n",
       "    </tr>\n",
       "  </thead>\n",
       "  <tbody>\n",
       "    <tr>\n",
       "      <th>0</th>\n",
       "      <td>A nice selection for breakfast</td>\n",
       "      <td>1</td>\n",
       "    </tr>\n",
       "    <tr>\n",
       "      <th>1</th>\n",
       "      <td>Abit pricey</td>\n",
       "      <td>-1</td>\n",
       "    </tr>\n",
       "    <tr>\n",
       "      <th>2</th>\n",
       "      <td>Absolute</td>\n",
       "      <td>1</td>\n",
       "    </tr>\n",
       "    <tr>\n",
       "      <th>3</th>\n",
       "      <td>After 2 hour i recive my order</td>\n",
       "      <td>-1</td>\n",
       "    </tr>\n",
       "    <tr>\n",
       "      <th>4</th>\n",
       "      <td>alright</td>\n",
       "      <td>1</td>\n",
       "    </tr>\n",
       "    <tr>\n",
       "      <th>...</th>\n",
       "      <td>...</td>\n",
       "      <td>...</td>\n",
       "    </tr>\n",
       "    <tr>\n",
       "      <th>764</th>\n",
       "      <td>Yummy and saucyðŸ‘Œ</td>\n",
       "      <td>1</td>\n",
       "    </tr>\n",
       "    <tr>\n",
       "      <th>765</th>\n",
       "      <td>Yummy food</td>\n",
       "      <td>1</td>\n",
       "    </tr>\n",
       "    <tr>\n",
       "      <th>766</th>\n",
       "      <td>Yummy food thanksðŸ¤©</td>\n",
       "      <td>1</td>\n",
       "    </tr>\n",
       "    <tr>\n",
       "      <th>767</th>\n",
       "      <td>Yumy yumy</td>\n",
       "      <td>1</td>\n",
       "    </tr>\n",
       "    <tr>\n",
       "      <th>768</th>\n",
       "      <td>Yumyyyyy</td>\n",
       "      <td>1</td>\n",
       "    </tr>\n",
       "  </tbody>\n",
       "</table>\n",
       "<p>708 rows × 2 columns</p>\n",
       "</div>"
      ],
      "text/plain": [
       "                               Text  Label\n",
       "0    A nice selection for breakfast      1\n",
       "1                       Abit pricey     -1\n",
       "2                          Absolute      1\n",
       "3    After 2 hour i recive my order     -1\n",
       "4                           alright      1\n",
       "..                              ...    ...\n",
       "764             Yummy and saucyðŸ‘Œ      1\n",
       "765                      Yummy food      1\n",
       "766           Yummy food thanksðŸ¤©      1\n",
       "767                       Yumy yumy      1\n",
       "768                        Yumyyyyy      1\n",
       "\n",
       "[708 rows x 2 columns]"
      ]
     },
     "execution_count": 75,
     "metadata": {},
     "output_type": "execute_result"
    }
   ],
   "source": [
    "df"
   ]
  },
  {
   "cell_type": "code",
   "execution_count": 79,
   "id": "9ccdc9be",
   "metadata": {},
   "outputs": [],
   "source": [
    "df['Text'] = df['Text'].str.lower()\n",
    "df['Text'] = df['Text'].apply(lambda x: re.sub('[^a-zA-Z \\n]','',x))"
   ]
  },
  {
   "cell_type": "code",
   "execution_count": 80,
   "id": "2cb63522",
   "metadata": {},
   "outputs": [],
   "source": [
    "tokens = df['Text'].apply(lambda x: nltk.word_tokenize(x))"
   ]
  },
  {
   "cell_type": "code",
   "execution_count": 81,
   "id": "c043d494",
   "metadata": {},
   "outputs": [],
   "source": [
    "from nltk.corpus import stopwords\n",
    "from nltk.tokenize import word_tokenize\n",
    "stop_words = set(stopwords.words('english'))"
   ]
  },
  {
   "cell_type": "code",
   "execution_count": 82,
   "id": "d76bc4e6",
   "metadata": {},
   "outputs": [],
   "source": [
    "def removeStopWord (sentence,stop_words):\n",
    "    newSentence = []\n",
    "    for word in sentence:\n",
    "        if word not in stop_words:\n",
    "            newSentence.append(word)\n",
    "    return newSentence"
   ]
  },
  {
   "cell_type": "code",
   "execution_count": 83,
   "id": "c0333f02",
   "metadata": {},
   "outputs": [],
   "source": [
    "removeStopWord = tokens.apply(lambda x: removeStopWord(x,stop_words))"
   ]
  },
  {
   "cell_type": "code",
   "execution_count": 84,
   "id": "7c6e1bdf",
   "metadata": {},
   "outputs": [],
   "source": [
    "filteredDf = df.merge(removeStopWord,left_index=True,right_index=True)"
   ]
  },
  {
   "cell_type": "code",
   "execution_count": 85,
   "id": "fcba5642",
   "metadata": {},
   "outputs": [],
   "source": [
    "filteredDf = filteredDf[['Text_y','Label']]"
   ]
  },
  {
   "cell_type": "code",
   "execution_count": 86,
   "id": "566e7181",
   "metadata": {},
   "outputs": [],
   "source": [
    "filteredDf.to_csv('Cleaned_data.csv')"
   ]
  },
  {
   "cell_type": "code",
   "execution_count": null,
   "id": "b5c74596",
   "metadata": {},
   "outputs": [],
   "source": []
  },
  {
   "cell_type": "code",
   "execution_count": null,
   "id": "dfcc5ab9",
   "metadata": {},
   "outputs": [],
   "source": []
  },
  {
   "cell_type": "code",
   "execution_count": null,
   "id": "999887db",
   "metadata": {},
   "outputs": [],
   "source": []
  }
 ],
 "metadata": {
  "kernelspec": {
   "display_name": "Python 3 (ipykernel)",
   "language": "python",
   "name": "python3"
  },
  "language_info": {
   "codemirror_mode": {
    "name": "ipython",
    "version": 3
   },
   "file_extension": ".py",
   "mimetype": "text/x-python",
   "name": "python",
   "nbconvert_exporter": "python",
   "pygments_lexer": "ipython3",
   "version": "3.8.5"
  }
 },
 "nbformat": 4,
 "nbformat_minor": 5
}
